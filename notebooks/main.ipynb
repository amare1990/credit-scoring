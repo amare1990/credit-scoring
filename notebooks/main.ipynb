{
 "cells": [
  {
   "cell_type": "code",
   "execution_count": 1,
   "id": "c55502e8-79cd-4e0f-a1cc-e1b9aae751ec",
   "metadata": {},
   "outputs": [
    {
     "data": {
      "text/plain": [
       "('/home/am/Documents/Software Development/10_Academy Training/week6/credit-scoring/notebooks',\n",
       " '/home/am/Documents/Software Development/10_Academy Training/week6/credit-scoring')"
      ]
     },
     "execution_count": 1,
     "metadata": {},
     "output_type": "execute_result"
    }
   ],
   "source": [
    "import os, sys\n",
    "curr_dir = os.getcwd()\n",
    "parent_dir = os.path.dirname(curr_dir)\n",
    "sys.path.insert(0, parent_dir)"
   ]
  },
  {
   "cell_type": "code",
   "execution_count": null,
   "id": "dfd3117e-4b96-4dbe-93c0-29c87bbe5836",
   "metadata": {},
   "outputs": [],
   "source": [
    "from scripts.exploratory_data_analysis import ExploratoryDataAnalysis\n",
    "\n",
    "data_path = '../data/data.csv'\n",
    "\n",
    "# Exploratory Data Analysis\n",
    "eda = ExploratoryDataAnalysis(data_path)\n",
    "eda.overview_of_data()\n",
    "eda.summary_statistics()\n",
    "eda.distribution_of_numerical_features()\n",
    "eda.distribution_of_categorical_features()\n",
    "eda.correlation_analysis()\n",
    "eda.identify_missing_values()\n",
    "eda.outlier_detection()"
   ]
  },
  {
   "cell_type": "code",
   "execution_count": null,
   "id": "1fba2e1a-a23d-4e1d-880f-89e5e97977fe",
   "metadata": {},
   "outputs": [],
   "source": [
    "# Feature Engineering\n",
    "from scripts.feature_engineering import FeatureEngineering\n",
    "\n",
    "chunk_size = 10000\n",
    "chunks = pd.read_csv(data_path, chunksize=chunk_size)\n",
    "\n",
    "for i, chunk in enumerate(chunks):\n",
    "    print(f\"Processing chunk {i+1}\")\n",
    "    feature_eng = FeatureEngineering(chunk)\n",
    "    feature_eng.create_aggregate_features()\n",
    "    feature_eng.extract_features()\n",
    "    feature_eng.encode_categorical_variables(method=\"one_hot\")\n",
    "    feature_eng.handle_missing_values(strategy=\"mean\")\n",
    "    feature_eng.handle_outliers(method=\"iqr\")\n",
    "    feature_eng.normalize_or_standardize(method=\"standardize\")\n",
    "    chunk_output_path = f\"../data/processed_chunk_{i+1}.csv\"\n",
    "    feature_eng.save_processed_data(chunk_output_path)\n"
   ]
  }
 ],
 "metadata": {
  "kernelspec": {
   "display_name": "Python 3 (ipykernel)",
   "language": "python",
   "name": "python3"
  },
  "language_info": {
   "codemirror_mode": {
    "name": "ipython",
    "version": 3
   },
   "file_extension": ".py",
   "mimetype": "text/x-python",
   "name": "python",
   "nbconvert_exporter": "python",
   "pygments_lexer": "ipython3",
   "version": "3.8.10"
  }
 },
 "nbformat": 4,
 "nbformat_minor": 5
}
